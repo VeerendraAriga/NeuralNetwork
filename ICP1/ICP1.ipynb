{
 "cells": [
  {
   "cell_type": "code",
   "execution_count": 1,
   "id": "6eb534a7",
   "metadata": {},
   "outputs": [
    {
     "name": "stdout",
     "output_type": "stream",
     "text": [
      "enter data : python\n",
      "typ\n"
     ]
    }
   ],
   "source": [
    "import random\n",
    "data = input(\"enter data : \")\n",
    "\n",
    "split =  random.randrange(2, len(data)-2)\n",
    "\n",
    "data = data.replace(data[split:],\"\")\n",
    "data = data[::-1]\n",
    "print(data)"
   ]
  },
  {
   "cell_type": "code",
   "execution_count": 2,
   "id": "8cef9a8c",
   "metadata": {},
   "outputs": [
    {
     "name": "stdout",
     "output_type": "stream",
     "text": [
      "enter string :i love playing with python\n",
      "i love playing with pythons\n"
     ]
    }
   ],
   "source": [
    "inputValue = input(\"enter string :\")\n",
    "\n",
    "inputValue = inputValue.replace(\"python\",\"pythons\")\n",
    "\n",
    "print(inputValue)"
   ]
  },
  {
   "cell_type": "code",
   "execution_count": 5,
   "id": "e16e3ff8",
   "metadata": {},
   "outputs": [
    {
     "name": "stdout",
     "output_type": "stream",
     "text": [
      "Enter Students score : 90\n",
      "Grade = A\n"
     ]
    }
   ],
   "source": [
    "marks = int(input(\"Enter Students score : \"))\n",
    "\n",
    "if(marks<=100 and marks>=90):\n",
    "    print(\"Grade = A\")\n",
    "elif(marks<=89 and marks>=80):\n",
    "     print(\"Grade = B\")\n",
    "elif(marks<=79 and marks>=70):\n",
    "     print(\"Grade = C\") \n",
    "elif(marks<=69 and marks>=60):\n",
    "     print(\"Grade = D\")\n",
    "elif(marks<=59 and marks>=0):\n",
    "     print(\"Grade = F\")"
   ]
  },
  {
   "cell_type": "code",
   "execution_count": null,
   "id": "156aab2c",
   "metadata": {},
   "outputs": [],
   "source": []
  },
  {
   "cell_type": "code",
   "execution_count": null,
   "id": "9a0d9ba7",
   "metadata": {},
   "outputs": [],
   "source": []
  }
 ],
 "metadata": {
  "kernelspec": {
   "display_name": "Python 3 (ipykernel)",
   "language": "python",
   "name": "python3"
  },
  "language_info": {
   "codemirror_mode": {
    "name": "ipython",
    "version": 3
   },
   "file_extension": ".py",
   "mimetype": "text/x-python",
   "name": "python",
   "nbconvert_exporter": "python",
   "pygments_lexer": "ipython3",
   "version": "3.11.5"
  }
 },
 "nbformat": 4,
 "nbformat_minor": 5
}
