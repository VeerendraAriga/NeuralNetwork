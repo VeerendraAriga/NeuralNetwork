{
  "nbformat": 4,
  "nbformat_minor": 0,
  "metadata": {
    "colab": {
      "provenance": []
    },
    "kernelspec": {
      "name": "python3",
      "display_name": "Python 3"
    },
    "language_info": {
      "name": "python"
    }
  },
  "cells": [
    {
      "cell_type": "code",
      "execution_count": 1,
      "metadata": {
        "colab": {
          "base_uri": "https://localhost:8080/"
        },
        "id": "R1tahfL3jrl6",
        "outputId": "9b5bf4fe-97d9-4348-fbe0-b7de0094e5ec"
      },
      "outputs": [
        {
          "output_type": "stream",
          "name": "stdout",
          "text": [
            "Downloading data from https://www.cs.toronto.edu/~kriz/cifar-10-python.tar.gz\n",
            "170498071/170498071 [==============================] - 3s 0us/step\n"
          ]
        }
      ],
      "source": [
        "import numpy as np\n",
        "import matplotlib.pyplot as plt\n",
        "from keras.datasets import cifar10\n",
        "from keras.utils import to_categorical\n",
        "from keras.models import Sequential\n",
        "from keras.layers import Conv2D, MaxPooling2D, Dropout, Flatten, Dense\n",
        "from keras.optimizers import Adam\n",
        "\n",
        "# Load and preprocess data\n",
        "(input_train, target_train), (input_test, target_test) = cifar10.load_data()\n",
        "\n",
        "input_train = input_train.astype('float32') / 255.0\n",
        "input_test = input_test.astype('float32') / 255.0\n",
        "\n",
        "target_train = to_categorical(target_train, 10)\n",
        "target_test = to_categorical(target_test, 10)"
      ]
    },
    {
      "cell_type": "code",
      "source": [
        "# Define input shape\n",
        "input_shape = input_train.shape[1:]\n",
        "\n",
        "# Create the model\n",
        "model = Sequential()\n",
        "model.add(Conv2D(32, (3, 3), activation='relu', input_shape=input_shape, padding='same'))\n",
        "model.add(Dropout(0.20))\n",
        "model.add(Conv2D(32, (3, 3), activation='relu', padding='same'))\n",
        "model.add(MaxPooling2D(pool_size=(2, 2)))\n",
        "model.add(Conv2D(64, (3, 3), activation='relu', padding='same'))\n",
        "model.add(Dropout(0.20))\n",
        "model.add(Conv2D(64, (3, 3), activation='relu', padding='same'))\n",
        "model.add(MaxPooling2D(pool_size=(2, 2)))\n",
        "model.add(Conv2D(128, (3, 3), activation='relu', padding='same'))\n",
        "model.add(Dropout(0.20))\n",
        "model.add(Conv2D(128, (3, 3), activation='relu', padding='same'))\n",
        "model.add(MaxPooling2D(pool_size=(2, 2)))\n",
        "model.add(Flatten())\n",
        "model.add(Dropout(0.20))\n",
        "model.add(Dense(1024, activation='relu'))\n",
        "model.add(Dropout(0.20))\n",
        "model.add(Dense(512, activation='relu'))\n",
        "model.add(Dropout(0.20))\n",
        "model.add(Dense(10, activation='softmax'))\n",
        "# Compile the model\n",
        "model.compile(optimizer=Adam(), loss='categorical_crossentropy', metrics=['accuracy'])\n",
        "\n",
        "# Train the model\n",
        "history = model.fit(input_train, target_train, epochs=20, batch_size=64, validation_split=0.2)\n",
        "\n",
        "# Evaluate the model\n",
        "performance = model.evaluate(input_test, target_test)\n",
        "print(\"Test loss:\", performance[0])\n",
        "print(\"Test accuracy:\", performance[1])"
      ],
      "metadata": {
        "colab": {
          "base_uri": "https://localhost:8080/"
        },
        "id": "PjFtmuuTkHBm",
        "outputId": "05a38667-4593-46b2-f247-058ed5bccc15"
      },
      "execution_count": null,
      "outputs": [
        {
          "output_type": "stream",
          "name": "stdout",
          "text": [
            "Epoch 1/20\n",
            "625/625 [==============================] - 392s 620ms/step - loss: 1.7468 - accuracy: 0.3442 - val_loss: 1.4657 - val_accuracy: 0.4648\n",
            "Epoch 2/20\n",
            "625/625 [==============================] - 373s 596ms/step - loss: 1.2980 - accuracy: 0.5328 - val_loss: 1.1565 - val_accuracy: 0.5864\n",
            "Epoch 3/20\n",
            "625/625 [==============================] - 359s 574ms/step - loss: 1.0964 - accuracy: 0.6085 - val_loss: 1.0174 - val_accuracy: 0.6369\n",
            "Epoch 4/20\n",
            "625/625 [==============================] - 368s 589ms/step - loss: 0.9673 - accuracy: 0.6590 - val_loss: 0.9334 - val_accuracy: 0.6737\n",
            "Epoch 5/20\n",
            "625/625 [==============================] - 356s 569ms/step - loss: 0.8801 - accuracy: 0.6874 - val_loss: 0.8453 - val_accuracy: 0.7027\n",
            "Epoch 6/20\n",
            "625/625 [==============================] - 353s 564ms/step - loss: 0.8073 - accuracy: 0.7134 - val_loss: 0.7618 - val_accuracy: 0.7319\n",
            "Epoch 7/20\n",
            "625/625 [==============================] - 347s 555ms/step - loss: 0.7389 - accuracy: 0.7372 - val_loss: 0.7867 - val_accuracy: 0.7297\n",
            "Epoch 8/20\n",
            "625/625 [==============================] - 348s 557ms/step - loss: 0.6944 - accuracy: 0.7519 - val_loss: 0.7418 - val_accuracy: 0.7431\n",
            "Epoch 9/20\n",
            "625/625 [==============================] - 373s 597ms/step - loss: 0.6405 - accuracy: 0.7741 - val_loss: 0.7377 - val_accuracy: 0.7450\n",
            "Epoch 10/20\n",
            "625/625 [==============================] - 383s 613ms/step - loss: 0.6070 - accuracy: 0.7868 - val_loss: 0.6982 - val_accuracy: 0.7571\n",
            "Epoch 11/20\n",
            "625/625 [==============================] - 361s 578ms/step - loss: 0.5693 - accuracy: 0.7972 - val_loss: 0.6712 - val_accuracy: 0.7692\n",
            "Epoch 12/20\n",
            "625/625 [==============================] - 364s 582ms/step - loss: 0.5404 - accuracy: 0.8094 - val_loss: 0.6869 - val_accuracy: 0.7714\n",
            "Epoch 13/20\n",
            "625/625 [==============================] - 359s 575ms/step - loss: 0.5129 - accuracy: 0.8169 - val_loss: 0.6926 - val_accuracy: 0.7721\n",
            "Epoch 14/20\n",
            " 30/625 [>.............................] - ETA: 5:30 - loss: 0.4887 - accuracy: 0.8260"
          ]
        }
      ]
    },
    {
      "cell_type": "code",
      "source": [
        "# Predict the first 4 images of the test data\n",
        "predictions = model.predict(input_test[:4])\n",
        "predicted_labels = np.argmax(predictions, axis=1)\n",
        "actual_labels = np.argmax(target_test[:4], axis=1)\n",
        "\n",
        "# Compare predictions with actual labels\n",
        "print(\"Predicted labels:\", predicted_labels)\n",
        "print(\"Actual labels:\", actual_labels)\n",
        "\n",
        "# Visualize Loss and Accuracy\n",
        "plt.figure(figsize=(12, 4))"
      ],
      "metadata": {
        "colab": {
          "base_uri": "https://localhost:8080/"
        },
        "id": "0k5fCQtXkK9Q",
        "outputId": "71e186f4-6877-4dab-b0b7-ba2b11b659bb"
      },
      "execution_count": 3,
      "outputs": [
        {
          "output_type": "stream",
          "name": "stdout",
          "text": [
            "Accuracy of Logistic Regression: 1.0\n"
          ]
        }
      ]
    },
    {
      "cell_type": "code",
      "source": [
        "# Plot loss\n",
        "plt.subplot(1, 2, 1)\n",
        "plt.plot(history.history['loss'], label='Training Loss')\n",
        "plt.plot(history.history['val_loss'], label='Validation Loss')\n",
        "plt.title('Loss')\n",
        "plt.xlabel('Epochs')\n",
        "plt.ylabel('Loss')\n",
        "plt.legend()\n",
        "\n",
        "# Plot accuracy\n",
        "plt.subplot(1, 2, 2)\n",
        "plt.plot(history.history['accuracy'], label='Training Accuracy')\n",
        "plt.plot(history.history['val_accuracy'], label='Validation Accuracy')\n",
        "plt.title('Accuracy')\n",
        "plt.xlabel('Epochs')\n",
        "plt.ylabel('Accuracy')\n",
        "plt.legend()\n",
        "\n",
        "plt.show()"
      ],
      "metadata": {
        "colab": {
          "base_uri": "https://localhost:8080/"
        },
        "id": "zujrezX9kQPH",
        "outputId": "03e0583e-10e6-49a4-fb43-538cdf964e4b"
      },
      "execution_count": 4,
      "outputs": [
        {
          "output_type": "stream",
          "name": "stdout",
          "text": [
            "Epoch 1/50\n",
            "14/14 [==============================] - 1s 22ms/step - loss: 1.1058 - accuracy: 0.1667 - val_loss: 1.0880 - val_accuracy: 0.2500\n",
            "Epoch 2/50\n",
            "14/14 [==============================] - 0s 6ms/step - loss: 1.0596 - accuracy: 0.2870 - val_loss: 1.0502 - val_accuracy: 0.4167\n",
            "Epoch 3/50\n",
            "14/14 [==============================] - 0s 4ms/step - loss: 1.0187 - accuracy: 0.4630 - val_loss: 1.0142 - val_accuracy: 0.8333\n",
            "Epoch 4/50\n",
            "14/14 [==============================] - 0s 4ms/step - loss: 0.9682 - accuracy: 0.6759 - val_loss: 0.9702 - val_accuracy: 0.9167\n",
            "Epoch 5/50\n",
            "14/14 [==============================] - 0s 4ms/step - loss: 0.9091 - accuracy: 0.7870 - val_loss: 0.9174 - val_accuracy: 0.9167\n",
            "Epoch 6/50\n",
            "14/14 [==============================] - 0s 6ms/step - loss: 0.8406 - accuracy: 0.7963 - val_loss: 0.8554 - val_accuracy: 0.9167\n",
            "Epoch 7/50\n",
            "14/14 [==============================] - 0s 7ms/step - loss: 0.7704 - accuracy: 0.7963 - val_loss: 0.7927 - val_accuracy: 0.9167\n",
            "Epoch 8/50\n",
            "14/14 [==============================] - 0s 5ms/step - loss: 0.6964 - accuracy: 0.7963 - val_loss: 0.7301 - val_accuracy: 1.0000\n",
            "Epoch 9/50\n",
            "14/14 [==============================] - 0s 4ms/step - loss: 0.6325 - accuracy: 0.8241 - val_loss: 0.6750 - val_accuracy: 1.0000\n",
            "Epoch 10/50\n",
            "14/14 [==============================] - 0s 4ms/step - loss: 0.5710 - accuracy: 0.8333 - val_loss: 0.6169 - val_accuracy: 1.0000\n",
            "Epoch 11/50\n",
            "14/14 [==============================] - 0s 4ms/step - loss: 0.5175 - accuracy: 0.8426 - val_loss: 0.5614 - val_accuracy: 1.0000\n",
            "Epoch 12/50\n",
            "14/14 [==============================] - 0s 4ms/step - loss: 0.4661 - accuracy: 0.8611 - val_loss: 0.5111 - val_accuracy: 1.0000\n",
            "Epoch 13/50\n",
            "14/14 [==============================] - 0s 5ms/step - loss: 0.4239 - accuracy: 0.8611 - val_loss: 0.4616 - val_accuracy: 1.0000\n",
            "Epoch 14/50\n",
            "14/14 [==============================] - 0s 4ms/step - loss: 0.3876 - accuracy: 0.8889 - val_loss: 0.4275 - val_accuracy: 1.0000\n",
            "Epoch 15/50\n",
            "14/14 [==============================] - 0s 6ms/step - loss: 0.3546 - accuracy: 0.9537 - val_loss: 0.3872 - val_accuracy: 1.0000\n",
            "Epoch 16/50\n",
            "14/14 [==============================] - 0s 5ms/step - loss: 0.3238 - accuracy: 0.9630 - val_loss: 0.3520 - val_accuracy: 1.0000\n",
            "Epoch 17/50\n",
            "14/14 [==============================] - 0s 4ms/step - loss: 0.2943 - accuracy: 0.9630 - val_loss: 0.3108 - val_accuracy: 1.0000\n",
            "Epoch 18/50\n",
            "14/14 [==============================] - 0s 4ms/step - loss: 0.2644 - accuracy: 0.9630 - val_loss: 0.2847 - val_accuracy: 1.0000\n",
            "Epoch 19/50\n",
            "14/14 [==============================] - 0s 4ms/step - loss: 0.2393 - accuracy: 0.9630 - val_loss: 0.2473 - val_accuracy: 1.0000\n",
            "Epoch 20/50\n",
            "14/14 [==============================] - 0s 8ms/step - loss: 0.2169 - accuracy: 0.9630 - val_loss: 0.2194 - val_accuracy: 1.0000\n",
            "Epoch 21/50\n",
            "14/14 [==============================] - 0s 10ms/step - loss: 0.1963 - accuracy: 0.9630 - val_loss: 0.2115 - val_accuracy: 1.0000\n",
            "Epoch 22/50\n",
            "14/14 [==============================] - 0s 9ms/step - loss: 0.1784 - accuracy: 0.9722 - val_loss: 0.1810 - val_accuracy: 1.0000\n",
            "Epoch 23/50\n",
            "14/14 [==============================] - 0s 8ms/step - loss: 0.1632 - accuracy: 0.9722 - val_loss: 0.1701 - val_accuracy: 1.0000\n",
            "Epoch 24/50\n",
            "14/14 [==============================] - 0s 7ms/step - loss: 0.1491 - accuracy: 0.9722 - val_loss: 0.1579 - val_accuracy: 1.0000\n",
            "Epoch 25/50\n",
            "14/14 [==============================] - 0s 6ms/step - loss: 0.1383 - accuracy: 0.9722 - val_loss: 0.1559 - val_accuracy: 1.0000\n",
            "Epoch 26/50\n",
            "14/14 [==============================] - 0s 7ms/step - loss: 0.1286 - accuracy: 0.9722 - val_loss: 0.1370 - val_accuracy: 1.0000\n",
            "Epoch 27/50\n",
            "14/14 [==============================] - 0s 7ms/step - loss: 0.1200 - accuracy: 0.9722 - val_loss: 0.1348 - val_accuracy: 1.0000\n",
            "Epoch 28/50\n",
            "14/14 [==============================] - 0s 7ms/step - loss: 0.1123 - accuracy: 0.9722 - val_loss: 0.1265 - val_accuracy: 1.0000\n",
            "Epoch 29/50\n",
            "14/14 [==============================] - 0s 9ms/step - loss: 0.1110 - accuracy: 0.9722 - val_loss: 0.1102 - val_accuracy: 1.0000\n",
            "Epoch 30/50\n",
            "14/14 [==============================] - 0s 9ms/step - loss: 0.1036 - accuracy: 0.9722 - val_loss: 0.1333 - val_accuracy: 0.9167\n",
            "Epoch 31/50\n",
            "14/14 [==============================] - 0s 6ms/step - loss: 0.0970 - accuracy: 0.9722 - val_loss: 0.1126 - val_accuracy: 1.0000\n",
            "Epoch 32/50\n",
            "14/14 [==============================] - 0s 7ms/step - loss: 0.0927 - accuracy: 0.9722 - val_loss: 0.1164 - val_accuracy: 0.9167\n",
            "Epoch 33/50\n",
            "14/14 [==============================] - 0s 7ms/step - loss: 0.0920 - accuracy: 0.9630 - val_loss: 0.1129 - val_accuracy: 0.9167\n",
            "Epoch 34/50\n",
            "14/14 [==============================] - 0s 7ms/step - loss: 0.0878 - accuracy: 0.9722 - val_loss: 0.0988 - val_accuracy: 1.0000\n",
            "Epoch 35/50\n",
            "14/14 [==============================] - 0s 8ms/step - loss: 0.0826 - accuracy: 0.9722 - val_loss: 0.1003 - val_accuracy: 1.0000\n",
            "Epoch 36/50\n",
            "14/14 [==============================] - 0s 8ms/step - loss: 0.0804 - accuracy: 0.9722 - val_loss: 0.0939 - val_accuracy: 1.0000\n",
            "Epoch 37/50\n",
            "14/14 [==============================] - 0s 6ms/step - loss: 0.0791 - accuracy: 0.9722 - val_loss: 0.0848 - val_accuracy: 1.0000\n",
            "Epoch 38/50\n",
            "14/14 [==============================] - 0s 7ms/step - loss: 0.0781 - accuracy: 0.9722 - val_loss: 0.1021 - val_accuracy: 1.0000\n",
            "Epoch 39/50\n",
            "14/14 [==============================] - 0s 11ms/step - loss: 0.0752 - accuracy: 0.9722 - val_loss: 0.0805 - val_accuracy: 1.0000\n",
            "Epoch 40/50\n",
            "14/14 [==============================] - 0s 7ms/step - loss: 0.0716 - accuracy: 0.9722 - val_loss: 0.0976 - val_accuracy: 1.0000\n",
            "Epoch 41/50\n",
            "14/14 [==============================] - 0s 7ms/step - loss: 0.0713 - accuracy: 0.9815 - val_loss: 0.0927 - val_accuracy: 1.0000\n",
            "Epoch 42/50\n",
            "14/14 [==============================] - 0s 8ms/step - loss: 0.0693 - accuracy: 0.9722 - val_loss: 0.0881 - val_accuracy: 1.0000\n",
            "Epoch 43/50\n",
            "14/14 [==============================] - 0s 7ms/step - loss: 0.0693 - accuracy: 0.9722 - val_loss: 0.0796 - val_accuracy: 1.0000\n",
            "Epoch 44/50\n",
            "14/14 [==============================] - 0s 6ms/step - loss: 0.0675 - accuracy: 0.9815 - val_loss: 0.1043 - val_accuracy: 0.9167\n",
            "Epoch 45/50\n",
            "14/14 [==============================] - 0s 6ms/step - loss: 0.0673 - accuracy: 0.9722 - val_loss: 0.0870 - val_accuracy: 1.0000\n",
            "Epoch 46/50\n",
            "14/14 [==============================] - 0s 8ms/step - loss: 0.0643 - accuracy: 0.9722 - val_loss: 0.0785 - val_accuracy: 1.0000\n",
            "Epoch 47/50\n",
            "14/14 [==============================] - 0s 9ms/step - loss: 0.0660 - accuracy: 0.9815 - val_loss: 0.0716 - val_accuracy: 1.0000\n",
            "Epoch 48/50\n",
            "14/14 [==============================] - 0s 11ms/step - loss: 0.0653 - accuracy: 0.9722 - val_loss: 0.0951 - val_accuracy: 0.9167\n",
            "Epoch 49/50\n",
            "14/14 [==============================] - 0s 7ms/step - loss: 0.0619 - accuracy: 0.9722 - val_loss: 0.0650 - val_accuracy: 1.0000\n",
            "Epoch 50/50\n",
            "14/14 [==============================] - 0s 7ms/step - loss: 0.0608 - accuracy: 0.9815 - val_loss: 0.0737 - val_accuracy: 1.0000\n",
            "1/1 [==============================] - 0s 29ms/step - loss: 0.0265 - accuracy: 1.0000\n",
            "Accuracy of Modified Neural Network: 1.0\n"
          ]
        }
      ]
    },
    {
      "cell_type": "code",
      "source": [],
      "metadata": {
        "id": "nXZwm8JXlm5h"
      },
      "execution_count": null,
      "outputs": []
    }
  ]
}